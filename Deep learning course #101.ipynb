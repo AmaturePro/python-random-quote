{
  "nbformat": 4,
  "nbformat_minor": 0,
  "metadata": {
    "colab": {
      "name": "Untitled1.ipynb",
      "provenance": [],
      "authorship_tag": "ABX9TyO8QSfOLmkUHnNgh+kW6t0R",
      "include_colab_link": true
    },
    "kernelspec": {
      "name": "python3",
      "display_name": "Python 3"
    }
  },
  "cells": [
    {
      "cell_type": "markdown",
      "metadata": {
        "id": "view-in-github",
        "colab_type": "text"
      },
      "source": [
        "<a href=\"https://colab.research.google.com/github/AmaturePro/python-random-quote/blob/master/Deep%20learning%20course%20%23101.ipynb\" target=\"_parent\"><img src=\"https://colab.research.google.com/assets/colab-badge.svg\" alt=\"Open In Colab\"/></a>"
      ]
    },
    {
      "cell_type": "code",
      "metadata": {
        "id": "h5O4OghAoct3"
      },
      "source": [
        "a=list(range(5))"
      ],
      "execution_count": 1,
      "outputs": []
    },
    {
      "cell_type": "code",
      "metadata": {
        "colab": {
          "base_uri": "https://localhost:8080/"
        },
        "id": "4HRnfbhbql0e",
        "outputId": "7354fea6-cd1c-4de1-b98a-9c0920ce15d0"
      },
      "source": [
        "print(a)"
      ],
      "execution_count": 2,
      "outputs": [
        {
          "output_type": "stream",
          "text": [
            "[0, 1, 2, 3, 4]\n"
          ],
          "name": "stdout"
        }
      ]
    },
    {
      "cell_type": "code",
      "metadata": {
        "id": "2tPhxu_gqntg"
      },
      "source": [
        "b=list(map(lambda x: x**2,a))"
      ],
      "execution_count": 7,
      "outputs": []
    },
    {
      "cell_type": "code",
      "metadata": {
        "colab": {
          "base_uri": "https://localhost:8080/"
        },
        "id": "xW7avv_Qq2av",
        "outputId": "abd6ea2f-457d-461e-a1c7-1e065a1bdfc0"
      },
      "source": [
        "print(b)"
      ],
      "execution_count": 8,
      "outputs": [
        {
          "output_type": "stream",
          "text": [
            "[0, 1, 4, 9, 16]\n"
          ],
          "name": "stdout"
        }
      ]
    },
    {
      "cell_type": "code",
      "metadata": {
        "id": "Jz4ZD4g6rTxx"
      },
      "source": [
        "c=list(filter(lambda x: x%2==0,b))"
      ],
      "execution_count": 10,
      "outputs": []
    },
    {
      "cell_type": "code",
      "metadata": {
        "colab": {
          "base_uri": "https://localhost:8080/"
        },
        "id": "MoD7BVQBrbLz",
        "outputId": "2225efcc-3f52-44f7-9fa4-954dedef3e7c"
      },
      "source": [
        "print(c)"
      ],
      "execution_count": 11,
      "outputs": [
        {
          "output_type": "stream",
          "text": [
            "[0, 4, 16]\n"
          ],
          "name": "stdout"
        }
      ]
    },
    {
      "cell_type": "code",
      "metadata": {
        "id": "B9gce6SOrfpu"
      },
      "source": [
        "my_phone= ['my_iphone',False,4.3,'Single sim',350000]"
      ],
      "execution_count": 20,
      "outputs": []
    },
    {
      "cell_type": "code",
      "metadata": {
        "colab": {
          "base_uri": "https://localhost:8080/"
        },
        "id": "3DmRqqbaryBJ",
        "outputId": "3138135e-1fb5-4679-e71b-1f543e9bfaf4"
      },
      "source": [
        "print(my_phone)"
      ],
      "execution_count": 21,
      "outputs": [
        {
          "output_type": "stream",
          "text": [
            "['my_iphone', False, 4.3, 'Single sim', 350000]\n"
          ],
          "name": "stdout"
        }
      ]
    },
    {
      "cell_type": "code",
      "metadata": {
        "id": "8q14McnEsPjl"
      },
      "source": [
        "my_phone.append('3G')"
      ],
      "execution_count": 22,
      "outputs": []
    },
    {
      "cell_type": "code",
      "metadata": {
        "colab": {
          "base_uri": "https://localhost:8080/"
        },
        "id": "OOB6_7pFsVZn",
        "outputId": "693ab1d9-882c-4c55-a2b6-b8563597ecc1"
      },
      "source": [
        "print(my_phone)"
      ],
      "execution_count": 23,
      "outputs": [
        {
          "output_type": "stream",
          "text": [
            "['my_iphone', False, 4.3, 'Single sim', 350000, '3G']\n"
          ],
          "name": "stdout"
        }
      ]
    },
    {
      "cell_type": "code",
      "metadata": {
        "id": "M11Yq9SrsYPn"
      },
      "source": [
        "my_phone_tuple= ('my_iphone', False, 4.3, 'Single sim')"
      ],
      "execution_count": 31,
      "outputs": []
    },
    {
      "cell_type": "code",
      "metadata": {
        "colab": {
          "base_uri": "https://localhost:8080/"
        },
        "id": "uRvwCTtVsde9",
        "outputId": "8ece9c0d-5162-45c3-cdbd-4cc95c029aa8"
      },
      "source": [
        "print(my_phone_tuple)\r\n",
        "type(my_phone_tuple)"
      ],
      "execution_count": 33,
      "outputs": [
        {
          "output_type": "stream",
          "text": [
            "('my_iphone', False, 4.3, 'Single sim')\n"
          ],
          "name": "stdout"
        },
        {
          "output_type": "execute_result",
          "data": {
            "text/plain": [
              "tuple"
            ]
          },
          "metadata": {
            "tags": []
          },
          "execution_count": 33
        }
      ]
    },
    {
      "cell_type": "code",
      "metadata": {
        "id": "w9BEALYKtNXN"
      },
      "source": [
        ""
      ],
      "execution_count": null,
      "outputs": []
    }
  ]
}